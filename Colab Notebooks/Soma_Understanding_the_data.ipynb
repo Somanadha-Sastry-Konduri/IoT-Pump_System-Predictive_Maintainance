{
  "nbformat": 4,
  "nbformat_minor": 0,
  "metadata": {
    "colab": {
      "name": "Soma_Understanding_the_data.ipynb",
      "provenance": [],
      "authorship_tag": "ABX9TyPOcSscld/N8lpZuHOJoXrk",
      "include_colab_link": true
    },
    "kernelspec": {
      "name": "python3",
      "display_name": "Python 3"
    }
  },
  "cells": [
    {
      "cell_type": "markdown",
      "metadata": {
        "id": "view-in-github",
        "colab_type": "text"
      },
      "source": [
        "<a href=\"https://colab.research.google.com/github/Somanadha-Sastry-Konduri/IoT-Pump_System-Predictive_Maintainance/blob/main/Soma_Understanding_the_data.ipynb\" target=\"_parent\"><img src=\"https://colab.research.google.com/assets/colab-badge.svg\" alt=\"Open In Colab\"/></a>"
      ]
    },
    {
      "cell_type": "code",
      "metadata": {
        "id": "5All0TzBdU80",
        "outputId": "c04a4d76-ff11-44d2-80e0-c57bd9b9face",
        "colab": {
          "base_uri": "https://localhost:8080/"
        }
      },
      "source": [
        "# mount your drive for reading data\n",
        "from google.colab import drive\n",
        "drive.mount('/content/drive')"
      ],
      "execution_count": 2,
      "outputs": [
        {
          "output_type": "stream",
          "text": [
            "Mounted at /content/drive\n"
          ],
          "name": "stdout"
        }
      ]
    }
  ]
}